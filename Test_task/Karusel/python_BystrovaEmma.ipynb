{
 "cells": [
  {
   "cell_type": "code",
   "execution_count": 2,
   "id": "074a1638",
   "metadata": {},
   "outputs": [],
   "source": [
    "import pandas as pd"
   ]
  },
  {
   "cell_type": "code",
   "execution_count": 107,
   "id": "4f8b58d5",
   "metadata": {},
   "outputs": [],
   "source": [
    "# Задача 1\n",
    "\n",
    "df = pd.DataFrame({\"CLIENT\": ['1', '1', '2', '2', '3'],\n",
    "                   \"HYPERMARKET\": ['1055', '1010', '1030', '1125', '1099'],\n",
    "                   \"DATE\": ['20190301', '20190328', '20190415','20190403', '20190501']})"
   ]
  },
  {
   "cell_type": "code",
   "execution_count": 108,
   "id": "7a3790c3",
   "metadata": {},
   "outputs": [
    {
     "data": {
      "text/html": [
       "<div>\n",
       "<style scoped>\n",
       "    .dataframe tbody tr th:only-of-type {\n",
       "        vertical-align: middle;\n",
       "    }\n",
       "\n",
       "    .dataframe tbody tr th {\n",
       "        vertical-align: top;\n",
       "    }\n",
       "\n",
       "    .dataframe thead th {\n",
       "        text-align: right;\n",
       "    }\n",
       "</style>\n",
       "<table border=\"1\" class=\"dataframe\">\n",
       "  <thead>\n",
       "    <tr style=\"text-align: right;\">\n",
       "      <th></th>\n",
       "      <th>CLIENT</th>\n",
       "      <th>HYPERMARKET</th>\n",
       "      <th>DATE</th>\n",
       "    </tr>\n",
       "  </thead>\n",
       "  <tbody>\n",
       "    <tr>\n",
       "      <th>0</th>\n",
       "      <td>1</td>\n",
       "      <td>1055</td>\n",
       "      <td>20190301</td>\n",
       "    </tr>\n",
       "    <tr>\n",
       "      <th>1</th>\n",
       "      <td>1</td>\n",
       "      <td>1010</td>\n",
       "      <td>20190328</td>\n",
       "    </tr>\n",
       "    <tr>\n",
       "      <th>2</th>\n",
       "      <td>2</td>\n",
       "      <td>1030</td>\n",
       "      <td>20190415</td>\n",
       "    </tr>\n",
       "    <tr>\n",
       "      <th>3</th>\n",
       "      <td>2</td>\n",
       "      <td>1125</td>\n",
       "      <td>20190403</td>\n",
       "    </tr>\n",
       "    <tr>\n",
       "      <th>4</th>\n",
       "      <td>3</td>\n",
       "      <td>1099</td>\n",
       "      <td>20190501</td>\n",
       "    </tr>\n",
       "  </tbody>\n",
       "</table>\n",
       "</div>"
      ],
      "text/plain": [
       "  CLIENT HYPERMARKET      DATE\n",
       "0      1        1055  20190301\n",
       "1      1        1010  20190328\n",
       "2      2        1030  20190415\n",
       "3      2        1125  20190403\n",
       "4      3        1099  20190501"
      ]
     },
     "execution_count": 108,
     "metadata": {},
     "output_type": "execute_result"
    }
   ],
   "source": [
    "df"
   ]
  },
  {
   "cell_type": "code",
   "execution_count": 109,
   "id": "981cc499",
   "metadata": {},
   "outputs": [],
   "source": [
    "df.DATE= pd.to_datetime(df.DATE)"
   ]
  },
  {
   "cell_type": "code",
   "execution_count": 110,
   "id": "16ae1b8b",
   "metadata": {},
   "outputs": [],
   "source": [
    "temp = df.groupby('CLIENT', as_index=False).agg({'DATE':'max', 'HYPERMARKET':'count'})"
   ]
  },
  {
   "cell_type": "code",
   "execution_count": 111,
   "id": "df990ce8",
   "metadata": {},
   "outputs": [],
   "source": [
    "temp = temp.rename(columns = {'HYPERMARKET':'STORES_VISITED_NUM'})"
   ]
  },
  {
   "cell_type": "code",
   "execution_count": 112,
   "id": "171ad221",
   "metadata": {},
   "outputs": [],
   "source": [
    "result = temp.merge(df, on=['CLIENT', 'DATE'], how='left')"
   ]
  },
  {
   "cell_type": "code",
   "execution_count": 113,
   "id": "b356b73f",
   "metadata": {},
   "outputs": [],
   "source": [
    "result = result.rename(columns = {'HYPERMARKET':'LAST_STORE'})\n",
    "result = result.drop(columns = ['DATE'])"
   ]
  },
  {
   "cell_type": "code",
   "execution_count": 116,
   "id": "ade47746",
   "metadata": {},
   "outputs": [
    {
     "data": {
      "text/html": [
       "<div>\n",
       "<style scoped>\n",
       "    .dataframe tbody tr th:only-of-type {\n",
       "        vertical-align: middle;\n",
       "    }\n",
       "\n",
       "    .dataframe tbody tr th {\n",
       "        vertical-align: top;\n",
       "    }\n",
       "\n",
       "    .dataframe thead th {\n",
       "        text-align: right;\n",
       "    }\n",
       "</style>\n",
       "<table border=\"1\" class=\"dataframe\">\n",
       "  <thead>\n",
       "    <tr style=\"text-align: right;\">\n",
       "      <th></th>\n",
       "      <th>CLIENT</th>\n",
       "      <th>STORES_VISITED_NUM</th>\n",
       "      <th>LAST_STORE</th>\n",
       "    </tr>\n",
       "  </thead>\n",
       "  <tbody>\n",
       "    <tr>\n",
       "      <th>0</th>\n",
       "      <td>1</td>\n",
       "      <td>2</td>\n",
       "      <td>1010</td>\n",
       "    </tr>\n",
       "    <tr>\n",
       "      <th>1</th>\n",
       "      <td>2</td>\n",
       "      <td>2</td>\n",
       "      <td>1030</td>\n",
       "    </tr>\n",
       "    <tr>\n",
       "      <th>2</th>\n",
       "      <td>3</td>\n",
       "      <td>1</td>\n",
       "      <td>1099</td>\n",
       "    </tr>\n",
       "  </tbody>\n",
       "</table>\n",
       "</div>"
      ],
      "text/plain": [
       "  CLIENT  STORES_VISITED_NUM LAST_STORE\n",
       "0      1                   2       1010\n",
       "1      2                   2       1030\n",
       "2      3                   1       1099"
      ]
     },
     "execution_count": 116,
     "metadata": {},
     "output_type": "execute_result"
    }
   ],
   "source": [
    "result"
   ]
  },
  {
   "cell_type": "code",
   "execution_count": null,
   "id": "aebf7b90",
   "metadata": {},
   "outputs": [],
   "source": []
  },
  {
   "cell_type": "code",
   "execution_count": null,
   "id": "921b9e20",
   "metadata": {},
   "outputs": [],
   "source": [
    "# Задача 2"
   ]
  },
  {
   "cell_type": "code",
   "execution_count": 47,
   "id": "4814051a",
   "metadata": {},
   "outputs": [],
   "source": [
    "A_1 = pd.DataFrame({\"CLIENT\": ['1', '8', '2', '3', '4'],\n",
    "                   \"SALES\": ['1055', '1010', '1030', '1125', '1099']})\n",
    "A_2 = pd.DataFrame({\"CLIENT\": ['5', '1', '4', '2', '3'],\n",
    "                   \"SALES\": ['1055', '1010', '1030', '1125', '1099']})"
   ]
  },
  {
   "cell_type": "code",
   "execution_count": 48,
   "id": "0e8c9537",
   "metadata": {},
   "outputs": [
    {
     "data": {
      "text/html": [
       "<div>\n",
       "<style scoped>\n",
       "    .dataframe tbody tr th:only-of-type {\n",
       "        vertical-align: middle;\n",
       "    }\n",
       "\n",
       "    .dataframe tbody tr th {\n",
       "        vertical-align: top;\n",
       "    }\n",
       "\n",
       "    .dataframe thead th {\n",
       "        text-align: right;\n",
       "    }\n",
       "</style>\n",
       "<table border=\"1\" class=\"dataframe\">\n",
       "  <thead>\n",
       "    <tr style=\"text-align: right;\">\n",
       "      <th></th>\n",
       "      <th>CLIENT</th>\n",
       "      <th>SALES</th>\n",
       "    </tr>\n",
       "  </thead>\n",
       "  <tbody>\n",
       "    <tr>\n",
       "      <th>0</th>\n",
       "      <td>1</td>\n",
       "      <td>1055</td>\n",
       "    </tr>\n",
       "    <tr>\n",
       "      <th>1</th>\n",
       "      <td>8</td>\n",
       "      <td>1010</td>\n",
       "    </tr>\n",
       "    <tr>\n",
       "      <th>2</th>\n",
       "      <td>2</td>\n",
       "      <td>1030</td>\n",
       "    </tr>\n",
       "    <tr>\n",
       "      <th>3</th>\n",
       "      <td>3</td>\n",
       "      <td>1125</td>\n",
       "    </tr>\n",
       "    <tr>\n",
       "      <th>4</th>\n",
       "      <td>4</td>\n",
       "      <td>1099</td>\n",
       "    </tr>\n",
       "  </tbody>\n",
       "</table>\n",
       "</div>"
      ],
      "text/plain": [
       "  CLIENT SALES\n",
       "0      1  1055\n",
       "1      8  1010\n",
       "2      2  1030\n",
       "3      3  1125\n",
       "4      4  1099"
      ]
     },
     "execution_count": 48,
     "metadata": {},
     "output_type": "execute_result"
    }
   ],
   "source": [
    "A_1"
   ]
  },
  {
   "cell_type": "code",
   "execution_count": 49,
   "id": "b51063c4",
   "metadata": {},
   "outputs": [
    {
     "data": {
      "text/html": [
       "<div>\n",
       "<style scoped>\n",
       "    .dataframe tbody tr th:only-of-type {\n",
       "        vertical-align: middle;\n",
       "    }\n",
       "\n",
       "    .dataframe tbody tr th {\n",
       "        vertical-align: top;\n",
       "    }\n",
       "\n",
       "    .dataframe thead th {\n",
       "        text-align: right;\n",
       "    }\n",
       "</style>\n",
       "<table border=\"1\" class=\"dataframe\">\n",
       "  <thead>\n",
       "    <tr style=\"text-align: right;\">\n",
       "      <th></th>\n",
       "      <th>CLIENT</th>\n",
       "      <th>SALES</th>\n",
       "    </tr>\n",
       "  </thead>\n",
       "  <tbody>\n",
       "    <tr>\n",
       "      <th>0</th>\n",
       "      <td>5</td>\n",
       "      <td>1055</td>\n",
       "    </tr>\n",
       "    <tr>\n",
       "      <th>1</th>\n",
       "      <td>1</td>\n",
       "      <td>1010</td>\n",
       "    </tr>\n",
       "    <tr>\n",
       "      <th>2</th>\n",
       "      <td>4</td>\n",
       "      <td>1030</td>\n",
       "    </tr>\n",
       "    <tr>\n",
       "      <th>3</th>\n",
       "      <td>2</td>\n",
       "      <td>1125</td>\n",
       "    </tr>\n",
       "    <tr>\n",
       "      <th>4</th>\n",
       "      <td>3</td>\n",
       "      <td>1099</td>\n",
       "    </tr>\n",
       "  </tbody>\n",
       "</table>\n",
       "</div>"
      ],
      "text/plain": [
       "  CLIENT SALES\n",
       "0      5  1055\n",
       "1      1  1010\n",
       "2      4  1030\n",
       "3      2  1125\n",
       "4      3  1099"
      ]
     },
     "execution_count": 49,
     "metadata": {},
     "output_type": "execute_result"
    }
   ],
   "source": [
    "A_2"
   ]
  },
  {
   "cell_type": "code",
   "execution_count": 50,
   "id": "7fb71920",
   "metadata": {},
   "outputs": [],
   "source": [
    "A_1 = A_1.drop(columns = ['SALES'])\n",
    "A_2 = A_2.drop(columns = ['SALES'])"
   ]
  },
  {
   "cell_type": "code",
   "execution_count": 51,
   "id": "f099fd50",
   "metadata": {},
   "outputs": [],
   "source": [
    "diff_A_2 = set(A_2.CLIENT).difference(A_1.CLIENT)\n",
    "diff_A_1 = set(A_1.CLIENT).difference(A_2.CLIENT)"
   ]
  },
  {
   "cell_type": "code",
   "execution_count": 52,
   "id": "03fbbd1f",
   "metadata": {},
   "outputs": [],
   "source": [
    "where_diff_2 = A_2.CLIENT.isin(diff_A_2)\n",
    "where_diff_1 = A_1.CLIENT.isin(diff_A_1)"
   ]
  },
  {
   "cell_type": "code",
   "execution_count": 53,
   "id": "f744fc14",
   "metadata": {},
   "outputs": [],
   "source": [
    "result = pd.concat([A_2[where_diff_2], A_1[where_diff_1]], ignore_index=True ) "
   ]
  },
  {
   "cell_type": "code",
   "execution_count": 54,
   "id": "8b8152c2",
   "metadata": {},
   "outputs": [
    {
     "data": {
      "text/html": [
       "<div>\n",
       "<style scoped>\n",
       "    .dataframe tbody tr th:only-of-type {\n",
       "        vertical-align: middle;\n",
       "    }\n",
       "\n",
       "    .dataframe tbody tr th {\n",
       "        vertical-align: top;\n",
       "    }\n",
       "\n",
       "    .dataframe thead th {\n",
       "        text-align: right;\n",
       "    }\n",
       "</style>\n",
       "<table border=\"1\" class=\"dataframe\">\n",
       "  <thead>\n",
       "    <tr style=\"text-align: right;\">\n",
       "      <th></th>\n",
       "      <th>CLIENT</th>\n",
       "    </tr>\n",
       "  </thead>\n",
       "  <tbody>\n",
       "    <tr>\n",
       "      <th>0</th>\n",
       "      <td>5</td>\n",
       "    </tr>\n",
       "    <tr>\n",
       "      <th>1</th>\n",
       "      <td>8</td>\n",
       "    </tr>\n",
       "  </tbody>\n",
       "</table>\n",
       "</div>"
      ],
      "text/plain": [
       "  CLIENT\n",
       "0      5\n",
       "1      8"
      ]
     },
     "execution_count": 54,
     "metadata": {},
     "output_type": "execute_result"
    }
   ],
   "source": [
    "result"
   ]
  },
  {
   "cell_type": "code",
   "execution_count": null,
   "id": "ea8bff3e",
   "metadata": {},
   "outputs": [],
   "source": []
  },
  {
   "cell_type": "code",
   "execution_count": null,
   "id": "d9ea84d7",
   "metadata": {},
   "outputs": [],
   "source": []
  }
 ],
 "metadata": {
  "kernelspec": {
   "display_name": "Python 3",
   "language": "python",
   "name": "python3"
  },
  "language_info": {
   "codemirror_mode": {
    "name": "ipython",
    "version": 3
   },
   "file_extension": ".py",
   "mimetype": "text/x-python",
   "name": "python",
   "nbconvert_exporter": "python",
   "pygments_lexer": "ipython3",
   "version": "3.8.8"
  }
 },
 "nbformat": 4,
 "nbformat_minor": 5
}
